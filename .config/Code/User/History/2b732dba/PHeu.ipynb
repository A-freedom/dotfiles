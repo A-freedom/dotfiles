{
 "cells": [
  {
   "cell_type": "code",
   "execution_count": 9,
   "metadata": {},
   "outputs": [],
   "source": [
    "import tensorflow as tf\n",
    "from sklearn.preprocessing import StandardScaler\n",
    "import pandas as pd\n",
    "import os\n",
    "os.environ[\"TF_CPP_MIN_LOG_LEVEL\"] = \"2\"\n",
    "from sklearn.model_selection import train_test_split"
   ]
  },
  {
   "cell_type": "code",
   "execution_count": 10,
   "metadata": {},
   "outputs": [],
   "source": [
    "loaded_model = tf.keras.models.load_model('my_model')\n"
   ]
  },
  {
   "cell_type": "code",
   "execution_count": 11,
   "metadata": {},
   "outputs": [],
   "source": [
    "df = pd.read_csv('DATA/data_R_FCST.csv', header=0)"
   ]
  },
  {
   "cell_type": "code",
   "execution_count": 12,
   "metadata": {},
   "outputs": [],
   "source": [
    "X = df[['b (mm)','h (mm)','t (mm)','L (mm)','fy (MPa)','fc (MPa)']]\n",
    "y = df['N Test (kN)']"
   ]
  },
  {
   "cell_type": "code",
   "execution_count": 13,
   "metadata": {},
   "outputs": [],
   "source": [
    "scaler = StandardScaler()\n",
    "X = scaler.fit_transform(X)"
   ]
  },
  {
   "cell_type": "code",
   "execution_count": 14,
   "metadata": {},
   "outputs": [],
   "source": [
    "X_train, X_test, y_train, y_test = train_test_split(X, y, test_size=0.1,random_state=20)"
   ]
  },
  {
   "cell_type": "markdown",
   "metadata": {},
   "source": [
    "evaluate and status for testing data"
   ]
  },
  {
   "cell_type": "code",
   "execution_count": 15,
   "metadata": {},
   "outputs": [],
   "source": [
    "# loaded_model.evaluate(X_test, y_test)"
   ]
  },
  {
   "cell_type": "code",
   "execution_count": 18,
   "metadata": {},
   "outputs": [
    {
     "data": {
      "text/plain": [
       "array([[ 3.64812403e-02, -1.79976947e-01,  1.01608787e-01,\n",
       "        -4.67606098e-01,  1.69007756e+00, -1.02885475e+00],\n",
       "       [-7.99699895e-01, -1.02384811e+00, -6.48780146e-01,\n",
       "         7.70319903e-01, -4.28262107e-01, -9.55749666e-01],\n",
       "       [ 9.00304727e-01,  6.91790786e-01, -7.22994436e-01,\n",
       "         4.49849239e+00, -5.85460267e-01, -2.55858376e-01],\n",
       "       [-4.81812852e-01, -7.03037586e-01,  1.33851362e+00,\n",
       "        -3.34323798e-01, -1.70425066e-01, -2.49866156e-01],\n",
       "       [ 8.83028257e-01,  6.74355431e-01, -1.26310955e+00,\n",
       "         4.57373063e-01, -9.10618879e-01, -8.88037580e-01],\n",
       "       [ 7.27540030e-01,  5.17437239e-01, -9.29145242e-01,\n",
       "        -1.47728578e-01, -3.65062264e-01,  3.49355839e-01],\n",
       "       [ 9.17581197e-01,  7.09226141e-01, -7.55978565e-01,\n",
       "         4.54707417e-01, -8.55090032e-01, -8.31111491e-01],\n",
       "       [ 4.35559867e+00,  4.17886172e+00,  5.13910399e-01,\n",
       "         2.06475760e+00, -2.10497430e-01, -4.59593854e-01],\n",
       "       [-8.29069893e-01, -2.02812454e+00, -1.31258574e+00,\n",
       "        -8.67452997e-01, -1.49281308e+00,  1.59573759e+00],\n",
       "       [ 3.64812403e-02, -1.79976947e-01, -1.30021669e+00,\n",
       "        -7.30904900e-02, -9.10618879e-01, -5.37492713e-01],\n",
       "       [ 2.00599879e+00,  1.80765348e+00,  7.07692157e-01,\n",
       "         4.44044833e-01,  2.45717710e+00, -4.26636644e-01],\n",
       "       [ 3.64812403e-02, -1.79976947e-01, -1.38267702e+00,\n",
       "         4.65370001e-01, -9.19377553e-01, -9.82115433e-01],\n",
       "       [ 3.02531050e+00,  2.83633941e+00, -1.54018212e-01,\n",
       "         9.15864175e-01, -8.23032140e-01, -8.97025910e-01],\n",
       "       [-8.53256951e-01,  3.44779157e-02, -1.13529605e+00,\n",
       "        -3.87636718e-01, -5.76300869e-01,  9.76826015e-02],\n",
       "       [ 1.59136352e+00,  3.48144753e+00, -8.67300001e-01,\n",
       "         2.17138344e+00, -3.75939048e-01, -9.98893649e-01],\n",
       "       [ 3.64812403e-02, -1.79976947e-01, -1.67128814e+00,\n",
       "         4.65370001e-01, -9.19377553e-01, -9.82115433e-01],\n",
       "       [ 3.64812403e-02, -1.79976947e-01, -1.18889526e+00,\n",
       "        -4.67606098e-01, -7.08539671e-01,  7.68811236e-01],\n",
       "       [ 4.68392984e-01,  2.55906920e-01,  7.07692157e-01,\n",
       "        -2.67682648e-01,  2.45717710e+00, -4.44613304e-01],\n",
       "       [ 9.00304727e-01,  6.91790786e-01,  5.13910399e-01,\n",
       "         1.85477172e-01,  4.53558891e-01,  7.53830686e-01],\n",
       "       [-1.16250576e+00, -7.15242334e-01, -2.36478534e-01,\n",
       "        -7.07514237e-01,  8.25659415e-01,  3.77604020e-02],\n",
       "       [-2.17482865e-01,  1.82678430e-01,  1.30469900e-01,\n",
       "        -3.07667338e-01, -3.34721759e-01, -1.77959516e-01],\n",
       "       [-4.81812852e-01, -7.03037586e-01,  1.33851362e+00,\n",
       "        -3.34323798e-01, -4.73830109e-01, -4.89554954e-01],\n",
       "       [-8.27342246e-01,  6.91790786e-01,  1.01608787e-01,\n",
       "         3.66414520e+00, -2.62019042e-01, -6.57337112e-01],\n",
       "       [ 6.06682979e-02, -1.55567450e-01,  6.77941650e-03,\n",
       "         1.22507911e+00, -5.10467700e-01,  3.94297489e-01],\n",
       "       [-8.27342246e-01, -1.05174468e+00, -1.13529605e+00,\n",
       "        -8.67452997e-01, -1.01356094e-02, -1.33017867e-01],\n",
       "       [ 5.54775332e-01,  3.43083693e-01,  7.61291366e-01,\n",
       "        -2.27697958e-01,  2.39420624e+00, -7.26247642e-01],\n",
       "       [ 1.15945177e+00,  9.53321106e-01, -1.54018212e-01,\n",
       "         5.21948718e-02, -8.23032140e-01, -4.26636644e-01],\n",
       "       [-4.99089321e-01, -7.20472941e-01,  7.07692157e-01,\n",
       "        -7.15511175e-01,  2.45717710e+00,  6.48966837e-01],\n",
       "       [-1.34563634e+00, -1.57480532e+00,  1.01608787e-01,\n",
       "        -1.10736114e+00,  1.69007756e+00, -1.02885475e+00],\n",
       "       [-4.81812852e-01, -7.03037586e-01,  1.33851362e+00,\n",
       "        -3.34323798e-01, -9.02803378e-02,  7.38850136e-01],\n",
       "       [-8.27342246e-01, -1.05174468e+00,  2.16311685e+00,\n",
       "        -8.67452997e-01,  3.02428831e-01,  1.67663256e+00],\n",
       "       [-8.27342246e-01, -1.05174468e+00, -3.10692825e-01,\n",
       "        -6.00888397e-01, -9.50118781e-01, -6.87298212e-01],\n",
       "       [ 2.93892816e+00,  2.74916263e+00,  6.62338979e-01,\n",
       "         8.75879485e-01,  1.21493381e+00, -4.26636644e-01],\n",
       "       [ 3.82010635e-01,  1.68730146e-01,  1.01608787e-01,\n",
       "        -3.07667338e-01,  1.69007756e+00, -2.51579074e-02],\n",
       "       [-4.81812852e-01, -7.03037586e-01,  1.33851362e+00,\n",
       "        -3.34323798e-01, -1.53251196e-01,  7.38850136e-01],\n",
       "       [ 9.00304727e-01,  6.91790786e-01,  4.56188173e-01,\n",
       "        -6.77591980e-02, -4.84706894e-01, -1.37610390e+00],\n",
       "       [ 3.64812403e-02, -1.79976947e-01,  1.33851362e+00,\n",
       "        -4.67606098e-01,  2.13659819e+00,  2.77620492e+00],\n",
       "       [-1.03465988e+00, -1.26096893e+00, -1.23424844e+00,\n",
       "        -9.63416253e-01, -1.66455179e+00,  1.59573759e+00],\n",
       "       [ 3.64812403e-02, -1.79976947e-01, -1.09406589e+00,\n",
       "         4.65370001e-01, -9.19377553e-01, -9.82115433e-01],\n",
       "       [ 8.83028257e-01,  6.74355431e-01, -1.19301827e+00,\n",
       "         4.57373063e-01, -9.10618879e-01, -8.31111491e-01],\n",
       "       [ 3.64812403e-02, -1.79976947e-01,  2.98772007e+00,\n",
       "        -4.67606098e-01,  2.00493185e+00,  2.74624382e+00],\n",
       "       [ 2.92251230e-02, -1.87299795e-01,  8.09937066e-02,\n",
       "         2.36864124e+00,  2.03927959e+00,  1.72756643e+00],\n",
       "       [ 1.92830083e-03, -2.14847656e-01, -1.54018212e-01,\n",
       "        -4.83599974e-01, -8.23032140e-01, -8.97025910e-01],\n",
       "       [ 9.05487668e-01,  6.97021392e-01, -1.66387260e-01,\n",
       "        -6.50935520e-02, -4.73830109e-01, -7.71189291e-01],\n",
       "       [ 2.02327526e+00,  1.82508884e+00,  7.07692157e-01,\n",
       "         4.52041771e-01,  2.45717710e+00, -4.26636644e-01],\n",
       "       [-7.51325780e-01, -2.65458256e-02,  3.97635454e-02,\n",
       "        -3.87636718e-01, -3.34721759e-01, -1.77959516e-01],\n",
       "       [-4.81812852e-01, -7.03037586e-01,  1.33851362e+00,\n",
       "        -3.34323798e-01, -1.53251196e-01, -4.89554954e-01],\n",
       "       [-1.36283457e-01, -3.54330493e-01, -3.10692825e-01,\n",
       "        -5.47575477e-01,  5.10805125e-01,  6.66943497e-01],\n",
       "       [-4.74902264e-01,  5.33129059e-01,  3.15175132e-02,\n",
       "        -1.47728578e-01, -3.34721759e-01, -1.77959516e-01],\n",
       "       [-1.43201869e+00, -1.48762855e+00, -7.22994436e-01,\n",
       "        -1.00073530e+00, -3.19265276e-01, -1.00060657e-01],\n",
       "       [-4.05278091e-01, -6.25798965e-01,  7.27476744e-02,\n",
       "        -5.07590788e-01,  2.03927959e+00,  1.33807213e+00],\n",
       "       [ 9.00304727e-01,  6.91790786e-01, -7.22994436e-01,\n",
       "         4.50115804e+00, -5.85460267e-01, -2.55858376e-01],\n",
       "       [-8.27342246e-01, -1.05174468e+00, -3.10692825e-01,\n",
       "        -6.00888397e-01, -9.50118781e-01, -6.87298212e-01],\n",
       "       [ 2.93892816e+00,  2.74916263e+00,  6.62338979e-01,\n",
       "         8.75879485e-01,  1.21493381e+00, -4.26636644e-01],\n",
       "       [-8.44618716e-01, -1.06918003e+00,  1.26429933e+00,\n",
       "        -6.08885335e-01, -9.58705716e-01, -5.19516053e-01],\n",
       "       [ 9.00304727e-01,  6.91790786e-01, -7.22994436e-01,\n",
       "         4.49049546e+00, -5.85460267e-01, -2.55858376e-01],\n",
       "       [ 1.76412821e+00,  1.56355852e+00, -9.29145242e-01,\n",
       "         3.32087702e-01, -3.87960758e-01, -1.36013977e-01],\n",
       "       [ 3.64812403e-02, -1.79976947e-01,  2.98772007e+00,\n",
       "        -4.67606098e-01,  2.00493185e+00,  2.90503765e+00],\n",
       "       [ 1.93689291e+00,  1.73791206e+00,  9.67442172e-01,\n",
       "         9.98499201e-01,  1.15806107e-01,  1.11036777e+00],\n",
       "       [-1.23161164e+00, -1.39875631e-01, -7.22994436e-01,\n",
       "         2.55384119e-02,  1.38704601e-01, -7.44224301e-01],\n",
       "       [-8.27342246e-01, -1.05174468e+00,  2.16311685e+00,\n",
       "        -8.67452997e-01,  3.02428831e-01,  1.01449225e+00],\n",
       "       [ 3.64812403e-02, -1.79976947e-01,  1.33851362e+00,\n",
       "        -4.67606098e-01,  2.13659819e+00,  2.90503765e+00],\n",
       "       [-4.81812852e-01, -7.03037586e-01,  7.07692157e-01,\n",
       "        -7.07514237e-01,  2.45717710e+00, -4.44613304e-01],\n",
       "       [-6.54577549e-01, -8.77391133e-01, -1.32495479e+00,\n",
       "        -7.87483617e-01, -7.20561380e-01, -6.72317662e-01],\n",
       "       [-1.36283457e-01, -3.54330493e-01,  4.56188173e-01,\n",
       "        -5.47575477e-01, -4.84706894e-01, -7.80177621e-01],\n",
       "       [-6.58032843e-01, -8.80878203e-01, -1.32907781e+00,\n",
       "        -7.87483617e-01, -7.20561380e-01, -6.72317662e-01],\n",
       "       [-1.08648929e+00, -5.28684040e-01, -7.80716662e-01,\n",
       "        -6.27544857e-01, -1.01766934e+00, -2.36683272e-01],\n",
       "       [-8.27342246e-01, -1.05174468e+00, -1.13529605e+00,\n",
       "        -6.00888397e-01, -6.93655650e-01, -6.87298212e-01],\n",
       "       [-4.54170500e-01,  4.89540672e-01,  5.21325938e-02,\n",
       "        -3.87636718e-01, -3.34721759e-01, -1.77959516e-01],\n",
       "       [ 8.65751788e-01,  6.56920077e-01, -1.25074050e+00,\n",
       "         4.57373063e-01, -9.10618879e-01, -8.88037580e-01]])"
      ]
     },
     "execution_count": 18,
     "metadata": {},
     "output_type": "execute_result"
    }
   ],
   "source": [
    "y_pre = loaded_model.predict(X_test"
   ]
  },
  {
   "cell_type": "code",
   "execution_count": 16,
   "metadata": {},
   "outputs": [
    {
     "name": "stderr",
     "output_type": "stream",
     "text": [
      "2023-11-15 18:29:14.657533: E tensorflow/compiler/xla/stream_executor/cuda/cuda_blas.cc:188] failed to create cublas handle: the library was not initialized\n",
      "2023-11-15 18:29:14.657553: E tensorflow/compiler/xla/stream_executor/cuda/cuda_blas.cc:191] Failure to initialize cublas may be due to OOM (cublas needs some free memory when you initialize it, and your deep-learning framework may have preallocated more than its fair share), or may be because this binary was not built with support for the GPU in your machine.\n",
      "2023-11-15 18:29:14.657562: W tensorflow/core/framework/op_kernel.cc:1839] OP_REQUIRES failed at matmul_op_impl.h:804 : INTERNAL: Attempting to perform BLAS operation using StreamExecutor without BLAS support\n"
     ]
    },
    {
     "ename": "InternalError",
     "evalue": "Graph execution error:\n\nDetected at node sequential_1/dense_3/MatMul defined at (most recent call last):\n  File \"/usr/lib/python3.10/runpy.py\", line 196, in _run_module_as_main\n\n  File \"/usr/lib/python3.10/runpy.py\", line 86, in _run_code\n\n  File \"/home/max/.local/lib/python3.10/site-packages/ipykernel_launcher.py\", line 17, in <module>\n\n  File \"/home/max/.local/lib/python3.10/site-packages/traitlets/config/application.py\", line 1053, in launch_instance\n\n  File \"/home/max/.local/lib/python3.10/site-packages/ipykernel/kernelapp.py\", line 737, in start\n\n  File \"/home/max/.local/lib/python3.10/site-packages/tornado/platform/asyncio.py\", line 195, in start\n\n  File \"/usr/lib/python3.10/asyncio/base_events.py\", line 603, in run_forever\n\n  File \"/usr/lib/python3.10/asyncio/base_events.py\", line 1909, in _run_once\n\n  File \"/usr/lib/python3.10/asyncio/events.py\", line 80, in _run\n\n  File \"/home/max/.local/lib/python3.10/site-packages/ipykernel/kernelbase.py\", line 524, in dispatch_queue\n\n  File \"/home/max/.local/lib/python3.10/site-packages/ipykernel/kernelbase.py\", line 513, in process_one\n\n  File \"/home/max/.local/lib/python3.10/site-packages/ipykernel/kernelbase.py\", line 418, in dispatch_shell\n\n  File \"/home/max/.local/lib/python3.10/site-packages/ipykernel/kernelbase.py\", line 758, in execute_request\n\n  File \"/home/max/.local/lib/python3.10/site-packages/ipykernel/ipkernel.py\", line 426, in do_execute\n\n  File \"/home/max/.local/lib/python3.10/site-packages/ipykernel/zmqshell.py\", line 549, in run_cell\n\n  File \"/home/max/.local/lib/python3.10/site-packages/IPython/core/interactiveshell.py\", line 3046, in run_cell\n\n  File \"/home/max/.local/lib/python3.10/site-packages/IPython/core/interactiveshell.py\", line 3101, in _run_cell\n\n  File \"/home/max/.local/lib/python3.10/site-packages/IPython/core/async_helpers.py\", line 129, in _pseudo_sync_runner\n\n  File \"/home/max/.local/lib/python3.10/site-packages/IPython/core/interactiveshell.py\", line 3306, in run_cell_async\n\n  File \"/home/max/.local/lib/python3.10/site-packages/IPython/core/interactiveshell.py\", line 3488, in run_ast_nodes\n\n  File \"/home/max/.local/lib/python3.10/site-packages/IPython/core/interactiveshell.py\", line 3548, in run_code\n\n  File \"/tmp/ipykernel_157188/3545278922.py\", line 1, in <module>\n\n  File \"/home/max/.local/lib/python3.10/site-packages/keras/src/utils/traceback_utils.py\", line 65, in error_handler\n\n  File \"/home/max/.local/lib/python3.10/site-packages/keras/src/engine/training.py\", line 2631, in predict\n\n  File \"/home/max/.local/lib/python3.10/site-packages/keras/src/engine/training.py\", line 2416, in predict_function\n\n  File \"/home/max/.local/lib/python3.10/site-packages/keras/src/engine/training.py\", line 2401, in step_function\n\n  File \"/home/max/.local/lib/python3.10/site-packages/keras/src/engine/training.py\", line 2389, in run_step\n\n  File \"/home/max/.local/lib/python3.10/site-packages/keras/src/engine/training.py\", line 2357, in predict_step\n\n  File \"/home/max/.local/lib/python3.10/site-packages/keras/src/utils/traceback_utils.py\", line 65, in error_handler\n\n  File \"/home/max/.local/lib/python3.10/site-packages/keras/src/engine/training.py\", line 589, in __call__\n\n  File \"/home/max/.local/lib/python3.10/site-packages/keras/src/utils/traceback_utils.py\", line 65, in error_handler\n\n  File \"/home/max/.local/lib/python3.10/site-packages/keras/src/engine/base_layer.py\", line 1149, in __call__\n\n  File \"/home/max/.local/lib/python3.10/site-packages/keras/src/utils/traceback_utils.py\", line 96, in error_handler\n\n  File \"/home/max/.local/lib/python3.10/site-packages/keras/src/engine/sequential.py\", line 398, in call\n\n  File \"/home/max/.local/lib/python3.10/site-packages/keras/src/engine/functional.py\", line 515, in call\n\n  File \"/home/max/.local/lib/python3.10/site-packages/keras/src/engine/functional.py\", line 672, in _run_internal_graph\n\n  File \"/home/max/.local/lib/python3.10/site-packages/keras/src/utils/traceback_utils.py\", line 65, in error_handler\n\n  File \"/home/max/.local/lib/python3.10/site-packages/keras/src/engine/base_layer.py\", line 1149, in __call__\n\n  File \"/home/max/.local/lib/python3.10/site-packages/keras/src/utils/traceback_utils.py\", line 96, in error_handler\n\n  File \"/home/max/.local/lib/python3.10/site-packages/keras/src/layers/core/dense.py\", line 241, in call\n\nAttempting to perform BLAS operation using StreamExecutor without BLAS support\n\t [[{{node sequential_1/dense_3/MatMul}}]] [Op:__inference_predict_function_1535]",
     "output_type": "error",
     "traceback": [
      "\u001b[0;31m---------------------------------------------------------------------------\u001b[0m",
      "\u001b[0;31mInternalError\u001b[0m                             Traceback (most recent call last)",
      "\u001b[1;32m/home/max/Desktop/project 0.1 old/Graduation_Project/load_and_test.ipynb Cell 10\u001b[0m line \u001b[0;36m1\n\u001b[0;32m----> <a href='vscode-notebook-cell:/home/max/Desktop/project%200.1%20old/Graduation_Project/load_and_test.ipynb#X11sZmlsZQ%3D%3D?line=0'>1</a>\u001b[0m y_pre \u001b[39m=\u001b[39m loaded_model\u001b[39m.\u001b[39;49mpredict(X_test)\n\u001b[1;32m      <a href='vscode-notebook-cell:/home/max/Desktop/project%200.1%20old/Graduation_Project/load_and_test.ipynb#X11sZmlsZQ%3D%3D?line=1'>2</a>\u001b[0m y_pre \u001b[39m=\u001b[39m [i[\u001b[39m0\u001b[39m] \u001b[39mfor\u001b[39;00m i \u001b[39min\u001b[39;00m y_pre]\n\u001b[1;32m      <a href='vscode-notebook-cell:/home/max/Desktop/project%200.1%20old/Graduation_Project/load_and_test.ipynb#X11sZmlsZQ%3D%3D?line=2'>3</a>\u001b[0m pd\u001b[39m.\u001b[39mDataFrame(y_pre)\u001b[39m.\u001b[39mto_csv(\u001b[39m'\u001b[39m\u001b[39mpredicts.cvs\u001b[39m\u001b[39m'\u001b[39m,index_label\u001b[39m=\u001b[39m\u001b[39mFalse\u001b[39;00m,index\u001b[39m=\u001b[39m\u001b[39mFalse\u001b[39;00m)\n",
      "File \u001b[0;32m~/.local/lib/python3.10/site-packages/keras/src/utils/traceback_utils.py:70\u001b[0m, in \u001b[0;36mfilter_traceback.<locals>.error_handler\u001b[0;34m(*args, **kwargs)\u001b[0m\n\u001b[1;32m     67\u001b[0m     filtered_tb \u001b[39m=\u001b[39m _process_traceback_frames(e\u001b[39m.\u001b[39m__traceback__)\n\u001b[1;32m     68\u001b[0m     \u001b[39m# To get the full stack trace, call:\u001b[39;00m\n\u001b[1;32m     69\u001b[0m     \u001b[39m# `tf.debugging.disable_traceback_filtering()`\u001b[39;00m\n\u001b[0;32m---> 70\u001b[0m     \u001b[39mraise\u001b[39;00m e\u001b[39m.\u001b[39mwith_traceback(filtered_tb) \u001b[39mfrom\u001b[39;00m \u001b[39mNone\u001b[39;00m\n\u001b[1;32m     71\u001b[0m \u001b[39mfinally\u001b[39;00m:\n\u001b[1;32m     72\u001b[0m     \u001b[39mdel\u001b[39;00m filtered_tb\n",
      "File \u001b[0;32m~/.local/lib/python3.10/site-packages/tensorflow/python/eager/execute.py:60\u001b[0m, in \u001b[0;36mquick_execute\u001b[0;34m(op_name, num_outputs, inputs, attrs, ctx, name)\u001b[0m\n\u001b[1;32m     53\u001b[0m   \u001b[39m# Convert any objects of type core_types.Tensor to Tensor.\u001b[39;00m\n\u001b[1;32m     54\u001b[0m   inputs \u001b[39m=\u001b[39m [\n\u001b[1;32m     55\u001b[0m       tensor_conversion_registry\u001b[39m.\u001b[39mconvert(t)\n\u001b[1;32m     56\u001b[0m       \u001b[39mif\u001b[39;00m \u001b[39misinstance\u001b[39m(t, core_types\u001b[39m.\u001b[39mTensor)\n\u001b[1;32m     57\u001b[0m       \u001b[39melse\u001b[39;00m t\n\u001b[1;32m     58\u001b[0m       \u001b[39mfor\u001b[39;00m t \u001b[39min\u001b[39;00m inputs\n\u001b[1;32m     59\u001b[0m   ]\n\u001b[0;32m---> 60\u001b[0m   tensors \u001b[39m=\u001b[39m pywrap_tfe\u001b[39m.\u001b[39mTFE_Py_Execute(ctx\u001b[39m.\u001b[39m_handle, device_name, op_name,\n\u001b[1;32m     61\u001b[0m                                       inputs, attrs, num_outputs)\n\u001b[1;32m     62\u001b[0m \u001b[39mexcept\u001b[39;00m core\u001b[39m.\u001b[39m_NotOkStatusException \u001b[39mas\u001b[39;00m e:\n\u001b[1;32m     63\u001b[0m   \u001b[39mif\u001b[39;00m name \u001b[39mis\u001b[39;00m \u001b[39mnot\u001b[39;00m \u001b[39mNone\u001b[39;00m:\n",
      "\u001b[0;31mInternalError\u001b[0m: Graph execution error:\n\nDetected at node sequential_1/dense_3/MatMul defined at (most recent call last):\n  File \"/usr/lib/python3.10/runpy.py\", line 196, in _run_module_as_main\n\n  File \"/usr/lib/python3.10/runpy.py\", line 86, in _run_code\n\n  File \"/home/max/.local/lib/python3.10/site-packages/ipykernel_launcher.py\", line 17, in <module>\n\n  File \"/home/max/.local/lib/python3.10/site-packages/traitlets/config/application.py\", line 1053, in launch_instance\n\n  File \"/home/max/.local/lib/python3.10/site-packages/ipykernel/kernelapp.py\", line 737, in start\n\n  File \"/home/max/.local/lib/python3.10/site-packages/tornado/platform/asyncio.py\", line 195, in start\n\n  File \"/usr/lib/python3.10/asyncio/base_events.py\", line 603, in run_forever\n\n  File \"/usr/lib/python3.10/asyncio/base_events.py\", line 1909, in _run_once\n\n  File \"/usr/lib/python3.10/asyncio/events.py\", line 80, in _run\n\n  File \"/home/max/.local/lib/python3.10/site-packages/ipykernel/kernelbase.py\", line 524, in dispatch_queue\n\n  File \"/home/max/.local/lib/python3.10/site-packages/ipykernel/kernelbase.py\", line 513, in process_one\n\n  File \"/home/max/.local/lib/python3.10/site-packages/ipykernel/kernelbase.py\", line 418, in dispatch_shell\n\n  File \"/home/max/.local/lib/python3.10/site-packages/ipykernel/kernelbase.py\", line 758, in execute_request\n\n  File \"/home/max/.local/lib/python3.10/site-packages/ipykernel/ipkernel.py\", line 426, in do_execute\n\n  File \"/home/max/.local/lib/python3.10/site-packages/ipykernel/zmqshell.py\", line 549, in run_cell\n\n  File \"/home/max/.local/lib/python3.10/site-packages/IPython/core/interactiveshell.py\", line 3046, in run_cell\n\n  File \"/home/max/.local/lib/python3.10/site-packages/IPython/core/interactiveshell.py\", line 3101, in _run_cell\n\n  File \"/home/max/.local/lib/python3.10/site-packages/IPython/core/async_helpers.py\", line 129, in _pseudo_sync_runner\n\n  File \"/home/max/.local/lib/python3.10/site-packages/IPython/core/interactiveshell.py\", line 3306, in run_cell_async\n\n  File \"/home/max/.local/lib/python3.10/site-packages/IPython/core/interactiveshell.py\", line 3488, in run_ast_nodes\n\n  File \"/home/max/.local/lib/python3.10/site-packages/IPython/core/interactiveshell.py\", line 3548, in run_code\n\n  File \"/tmp/ipykernel_157188/3545278922.py\", line 1, in <module>\n\n  File \"/home/max/.local/lib/python3.10/site-packages/keras/src/utils/traceback_utils.py\", line 65, in error_handler\n\n  File \"/home/max/.local/lib/python3.10/site-packages/keras/src/engine/training.py\", line 2631, in predict\n\n  File \"/home/max/.local/lib/python3.10/site-packages/keras/src/engine/training.py\", line 2416, in predict_function\n\n  File \"/home/max/.local/lib/python3.10/site-packages/keras/src/engine/training.py\", line 2401, in step_function\n\n  File \"/home/max/.local/lib/python3.10/site-packages/keras/src/engine/training.py\", line 2389, in run_step\n\n  File \"/home/max/.local/lib/python3.10/site-packages/keras/src/engine/training.py\", line 2357, in predict_step\n\n  File \"/home/max/.local/lib/python3.10/site-packages/keras/src/utils/traceback_utils.py\", line 65, in error_handler\n\n  File \"/home/max/.local/lib/python3.10/site-packages/keras/src/engine/training.py\", line 589, in __call__\n\n  File \"/home/max/.local/lib/python3.10/site-packages/keras/src/utils/traceback_utils.py\", line 65, in error_handler\n\n  File \"/home/max/.local/lib/python3.10/site-packages/keras/src/engine/base_layer.py\", line 1149, in __call__\n\n  File \"/home/max/.local/lib/python3.10/site-packages/keras/src/utils/traceback_utils.py\", line 96, in error_handler\n\n  File \"/home/max/.local/lib/python3.10/site-packages/keras/src/engine/sequential.py\", line 398, in call\n\n  File \"/home/max/.local/lib/python3.10/site-packages/keras/src/engine/functional.py\", line 515, in call\n\n  File \"/home/max/.local/lib/python3.10/site-packages/keras/src/engine/functional.py\", line 672, in _run_internal_graph\n\n  File \"/home/max/.local/lib/python3.10/site-packages/keras/src/utils/traceback_utils.py\", line 65, in error_handler\n\n  File \"/home/max/.local/lib/python3.10/site-packages/keras/src/engine/base_layer.py\", line 1149, in __call__\n\n  File \"/home/max/.local/lib/python3.10/site-packages/keras/src/utils/traceback_utils.py\", line 96, in error_handler\n\n  File \"/home/max/.local/lib/python3.10/site-packages/keras/src/layers/core/dense.py\", line 241, in call\n\nAttempting to perform BLAS operation using StreamExecutor without BLAS support\n\t [[{{node sequential_1/dense_3/MatMul}}]] [Op:__inference_predict_function_1535]"
     ]
    }
   ],
   "source": [
    "y_pre = loaded_model.predict(X_test)\n",
    "y_pre = [i[0] for i in y_pre]\n",
    "pd.DataFrame(y_pre).to_csv('predicts.cvs',index_label=False,index=False)\n",
    "error = (y_test - y_pre)/y_test *100\n",
    "error = error.abs().sort_values()\n",
    "error.to_csv('error.csv', index=False,index_label=False)\n",
    "error.describe()"
   ]
  },
  {
   "cell_type": "markdown",
   "metadata": {},
   "source": [
    "evaluate and status for testing All data"
   ]
  },
  {
   "cell_type": "code",
   "execution_count": null,
   "metadata": {},
   "outputs": [],
   "source": [
    "loaded_model.evaluate(X, y)"
   ]
  },
  {
   "cell_type": "code",
   "execution_count": null,
   "metadata": {},
   "outputs": [],
   "source": [
    "y_pre = loaded_model.predict(X)\n",
    "y_pre = [i[0] for i in y_pre]\n",
    "pd.DataFrame(y_pre).to_csv('predicts.cvs',index_label=False,index=False)\n",
    "error = (y - y_pre)/y *100\n",
    "error = error.abs().sort_values()\n",
    "error.to_csv('error.csv', index=False,index_label=False)\n",
    "error.describe()"
   ]
  }
 ],
 "metadata": {
  "kernelspec": {
   "display_name": "Python 3",
   "language": "python",
   "name": "python3"
  },
  "language_info": {
   "codemirror_mode": {
    "name": "ipython",
    "version": 3
   },
   "file_extension": ".py",
   "mimetype": "text/x-python",
   "name": "python",
   "nbconvert_exporter": "python",
   "pygments_lexer": "ipython3",
   "version": "3.10.12"
  }
 },
 "nbformat": 4,
 "nbformat_minor": 2
}
