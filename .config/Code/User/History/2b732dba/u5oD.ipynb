{
 "cells": [
  {
   "cell_type": "code",
   "execution_count": 64,
   "metadata": {},
   "outputs": [],
   "source": [
    "import tensorflow as tf\n",
    "from sklearn.preprocessing import StandardScaler\n",
    "import pandas as pd\n",
    "import os\n",
    "os.environ[\"TF_CPP_MIN_LOG_LEVEL\"] = \"2\"\n",
    "from sklearn.model_selection import train_test_split"
   ]
  },
  {
   "cell_type": "code",
   "execution_count": 65,
   "metadata": {},
   "outputs": [],
   "source": [
    "loaded_model = tf.keras.models.load_model('my_model')\n"
   ]
  },
  {
   "cell_type": "code",
   "execution_count": 66,
   "metadata": {},
   "outputs": [],
   "source": [
    "df = pd.read_csv('DATA/data_R_FCST.csv', header=0)"
   ]
  },
  {
   "cell_type": "code",
   "execution_count": 67,
   "metadata": {},
   "outputs": [],
   "source": [
    "X = df[['b (mm)','h (mm)','t (mm)','L (mm)','fy (MPa)','fc (MPa)']]\n",
    "y = df['N Test (kN)']"
   ]
  },
  {
   "cell_type": "code",
   "execution_count": 68,
   "metadata": {},
   "outputs": [],
   "source": [
    "scaler = StandardScaler()\n",
    "X = scaler.fit_transform(X)"
   ]
  },
  {
   "cell_type": "code",
   "execution_count": 69,
   "metadata": {},
   "outputs": [],
   "source": [
    "X_train, X_test, y_train, y_test = train_test_split(X, y, test_size=0.1,random_state=20)"
   ]
  },
  {
   "cell_type": "markdown",
   "metadata": {},
   "source": [
    "evaluate and status for testing data"
   ]
  },
  {
   "cell_type": "code",
   "execution_count": 70,
   "metadata": {},
   "outputs": [
    {
     "name": "stdout",
     "output_type": "stream",
     "text": [
      "3/3 [==============================] - 0s 2ms/step - loss: 114445.1094 - mape: 7.7921 - mse: 114445.1094\n"
     ]
    },
    {
     "data": {
      "text/plain": [
       "[114445.109375, 7.792128086090088, 114445.109375]"
      ]
     },
     "execution_count": 70,
     "metadata": {},
     "output_type": "execute_result"
    }
   ],
   "source": [
    "loaded_model.evaluate(X_test, y_test)"
   ]
  },
  {
   "cell_type": "code",
   "execution_count": 71,
   "metadata": {},
   "outputs": [
    {
     "name": "stdout",
     "output_type": "stream",
     "text": [
      "3/3 [==============================] - 0s 1ms/step\n"
     ]
    },
    {
     "data": {
      "text/plain": [
       "count    70.000000\n",
       "mean      7.792128\n",
       "std       7.263846\n",
       "min       0.087784\n",
       "25%       2.269590\n",
       "50%       6.264227\n",
       "75%      11.223186\n",
       "max      35.993341\n",
       "Name: N Test (kN), dtype: float64"
      ]
     },
     "execution_count": 71,
     "metadata": {},
     "output_type": "execute_result"
    }
   ],
   "source": [
    "y_pre = loaded_model.predict(X_test)\n",
    "y_pre = [i[0] for i in y_pre]\n",
    "pd.DataFrame(y_pre).to_csv('predicts.cvs',index_label=False,index=False)\n",
    "error = (y_test - y_pre)/y_test *100\n",
    "error = error.abs().sort_values()\n",
    "error.to_csv('error.csv', index=False,index_label=False)\n",
    "error.describe()"
   ]
  },
  {
   "cell_type": "markdown",
   "metadata": {},
   "source": [
    "evaluate and status for testing All data"
   ]
  },
  {
   "cell_type": "code",
   "execution_count": 72,
   "metadata": {},
   "outputs": [
    {
     "name": "stdout",
     "output_type": "stream",
     "text": [
      "22/22 [==============================] - 0s 983us/step - loss: 36209.8516 - mape: 5.9292 - mse: 36209.8516\n"
     ]
    },
    {
     "data": {
      "text/plain": [
       "[36209.8515625, 5.929227352142334, 36209.8515625]"
      ]
     },
     "execution_count": 72,
     "metadata": {},
     "output_type": "execute_result"
    }
   ],
   "source": [
    "loaded_model.evaluate(X, y)"
   ]
  },
  {
   "cell_type": "code",
   "execution_count": 73,
   "metadata": {},
   "outputs": [
    {
     "name": "stdout",
     "output_type": "stream",
     "text": [
      "22/22 [==============================] - 0s 654us/step\n"
     ]
    },
    {
     "data": {
      "text/plain": [
       "count    700.000000\n",
       "mean       5.929227\n",
       "std        7.111532\n",
       "min        0.007941\n",
       "25%        1.568833\n",
       "50%        3.959263\n",
       "75%        7.935739\n",
       "max       75.346846\n",
       "Name: N Test (kN), dtype: float64"
      ]
     },
     "execution_count": 73,
     "metadata": {},
     "output_type": "execute_result"
    }
   ],
   "source": [
    "y_pre = loaded_model.predict(X)\n",
    "y_pre = [i[0] for i in y_pre]\n",
    "pd.DataFrame(y_pre).to_csv('predicts.cvs',index_label=False,index=False)\n",
    "error = (y - y_pre)/y *100\n",
    "error = error.abs().sort_values()\n",
    "error.to_csv('error.csv', index=False,index_label=False)\n",
    "error.describe()"
   ]
  }
 ],
 "metadata": {
  "kernelspec": {
   "display_name": "Python 3",
   "language": "python",
   "name": "python3"
  },
  "language_info": {
   "codemirror_mode": {
    "name": "ipython",
    "version": 3
   },
   "file_extension": ".py",
   "mimetype": "text/x-python",
   "name": "python",
   "nbconvert_exporter": "python",
   "pygments_lexer": "ipython3",
   "version": "3.10.12"
  }
 },
 "nbformat": 4,
 "nbformat_minor": 2
}
